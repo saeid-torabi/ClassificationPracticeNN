{
  "nbformat": 4,
  "nbformat_minor": 0,
  "metadata": {
    "colab": {
      "provenance": []
    },
    "kernelspec": {
      "name": "python3",
      "display_name": "Python 3"
    },
    "language_info": {
      "name": "python"
    }
  },
  "cells": [
    {
      "cell_type": "code",
      "execution_count": 1,
      "metadata": {
        "id": "H1jtmlTGOS4w"
      },
      "outputs": [],
      "source": [
        "# Importing necessary libraries\n",
        "import numpy as np\n",
        "import matplotlib.pyplot as plt\n",
        "import tensorflow as tf   # just for dataset fetching\n",
        "from sklearn.model_selection import train_test_split"
      ]
    },
    {
      "cell_type": "code",
      "source": [
        "# Load the Fashion MNIST dataset\n",
        "fashion_mnist = tf.keras.datasets.fashion_mnist\n",
        "(x_train_full, y_train_full), (x_test, y_test) = fashion_mnist.load_data()"
      ],
      "metadata": {
        "colab": {
          "base_uri": "https://localhost:8080/"
        },
        "id": "v_bNtWyLOXIR",
        "outputId": "dc2d5795-64b2-40ec-d981-1fe6c3e32f8d"
      },
      "execution_count": 2,
      "outputs": [
        {
          "output_type": "stream",
          "name": "stdout",
          "text": [
            "Downloading data from https://storage.googleapis.com/tensorflow/tf-keras-datasets/train-labels-idx1-ubyte.gz\n",
            "\u001b[1m29515/29515\u001b[0m \u001b[32m━━━━━━━━━━━━━━━━━━━━\u001b[0m\u001b[37m\u001b[0m \u001b[1m0s\u001b[0m 0us/step\n",
            "Downloading data from https://storage.googleapis.com/tensorflow/tf-keras-datasets/train-images-idx3-ubyte.gz\n",
            "\u001b[1m26421880/26421880\u001b[0m \u001b[32m━━━━━━━━━━━━━━━━━━━━\u001b[0m\u001b[37m\u001b[0m \u001b[1m0s\u001b[0m 0us/step\n",
            "Downloading data from https://storage.googleapis.com/tensorflow/tf-keras-datasets/t10k-labels-idx1-ubyte.gz\n",
            "\u001b[1m5148/5148\u001b[0m \u001b[32m━━━━━━━━━━━━━━━━━━━━\u001b[0m\u001b[37m\u001b[0m \u001b[1m0s\u001b[0m 0us/step\n",
            "Downloading data from https://storage.googleapis.com/tensorflow/tf-keras-datasets/t10k-images-idx3-ubyte.gz\n",
            "\u001b[1m4422102/4422102\u001b[0m \u001b[32m━━━━━━━━━━━━━━━━━━━━\u001b[0m\u001b[37m\u001b[0m \u001b[1m0s\u001b[0m 0us/step\n"
          ]
        }
      ]
    },
    {
      "cell_type": "code",
      "source": [
        "# Map class labels to names\n",
        "class_names = ['T-shirt/top', 'Trouser', 'Pullover', 'Dress', 'Coat',\n",
        "               'Sandal', 'Shirt', 'Sneaker', 'Bag', 'Ankle boot']"
      ],
      "metadata": {
        "id": "spVwDiNgOmEd"
      },
      "execution_count": 3,
      "outputs": []
    },
    {
      "cell_type": "code",
      "source": [
        "# defining functions\n",
        "\n",
        "def my_relu(z):\n",
        "  return np.maximum(0, z)\n",
        "\n",
        "def my_relu_derivative(z):\n",
        "  return z > 0\n",
        "\n",
        "def my_softmax(z):\n",
        "  z_stable = z - np.max(z, axis=1, keepdims=True)   # to ensure we are working with mini batches, not just a single vector\n",
        "  ez = np.exp(z_stable)\n",
        "  return ez/np.sum(ez, axis=1, keepdims=True)\n",
        "\n",
        "def cross_entropy_loss(y_pred, y_true):\n",
        "    m = y_true.shape[0]\n",
        "    # Avoid log(0) with small epsilon\n",
        "    epsilon = 1e-12\n",
        "    y_pred = np.clip(y_pred, epsilon, 1 - epsilon) #np.clip limits an array\n",
        "    correct_probs = y_pred[range(m), y_true]\n",
        "    loss = -np.mean(np.log(correct_probs))\n",
        "    return loss\n",
        "\n",
        "def my_initialize_parameters(input_size, hidden1_size, hidden2_size, output_size):\n",
        "  \"\"\"\n",
        "  output: a dictionary of the weights\n",
        "  \"\"\"\n",
        "  np.random.seed(42)\n",
        "  params = {\n",
        "      \"W1\": np.random.randn(input_size, hidden1_size) * np.sqrt(2/input_size),  # He Initialization\n",
        "      \"b1\": np.zeros((1, hidden1_size)),\n",
        "      \"W2\": np.random.randn(hidden1_size, hidden2_size) * np.sqrt(2/hidden1_size) ,\n",
        "      \"b2\": np.zeros((1, hidden2_size)),\n",
        "      \"W3\": np.random.randn(hidden2_size, output_size)* np.sqrt(2/hidden2_size) ,\n",
        "      \"b3\": np.zeros((1, output_size))\n",
        "      }\n",
        "  return params\n",
        "\n",
        "def my_forward_prop(X, params):\n",
        "  W1, b1 = params[\"W1\"], params[\"b1\"]\n",
        "  W2, b2 = params[\"W2\"], params[\"b2\"]\n",
        "  W3, b3 = params[\"W3\"], params[\"b3\"]\n",
        "\n",
        "  Z1 = np.dot(X, W1) + b1    # Layer 1\n",
        "  A1 = my_relu(Z1)\n",
        "\n",
        "  Z2 = np.dot(A1, W2) + b2    # Layer 2\n",
        "  A2 = my_relu(Z2)\n",
        "\n",
        "  Z3 = np.dot(A2, W3) + b3    # Output Layer\n",
        "  A3 = my_softmax(Z3)\n",
        "\n",
        "  # Cache for backprop\n",
        "  cache = {\n",
        "      \"Z1\": Z1, \"A1\": A1,\n",
        "      \"Z2\": Z2, \"A2\": A2,\n",
        "      \"Z3\": Z3, \"A3\": A3\n",
        "      }\n",
        "  return A3, cache\n",
        "\n",
        "def my_back_prop(X, y_true, params, cache):\n",
        "  m = X.shape[0]\n",
        "\n",
        "  # Unpack parameters and cache\n",
        "  W1, W2, W3 = params[\"W1\"], params[\"W2\"], params[\"W3\"]\n",
        "  A1, A2, A3 = cache[\"A1\"], cache[\"A2\"], cache[\"A3\"]\n",
        "  Z1, Z2 = cache[\"Z1\"], cache[\"Z2\"]\n",
        "\n",
        "  # One-hot encode labels from y_true\n",
        "  y_one_hot = np.zeros_like(A3)\n",
        "  y_one_hot[np.arange(m), y_true] = 1\n",
        "\n",
        "  # Output layer gradient\n",
        "  dZ3 = A3 - y_one_hot\n",
        "  dW3 = (1/m) * np.dot(A2.T, dZ3)\n",
        "  db3 = (1/m) * np.sum(dZ3, axis=0, keepdims=True)\n",
        "\n",
        "  # Hidden layer 2\n",
        "  dA2 = np.dot(dZ3, W3.T)\n",
        "  dZ2 = dA2 * my_relu_derivative(Z2)\n",
        "  dW2 = (1/m) * np.dot(A1.T, dZ2)\n",
        "  db2 = (1/m) * np.sum(dZ2, axis=0, keepdims=True)\n",
        "\n",
        "  # Hidden layer 1\n",
        "  dA1 = np.dot(dZ2, W2.T)\n",
        "  dZ1 = dA1 * my_relu_derivative(Z1)\n",
        "  dW1 = (1/m) * np.dot(X.T, dZ1)\n",
        "  db1 = (1/m) * np.sum(dZ1, axis=0, keepdims=True)\n",
        "\n",
        "  # Return gradients\n",
        "  grads = {\n",
        "      \"dW1\": dW1, \"db1\": db1,\n",
        "      \"dW2\": dW2, \"db2\": db2,\n",
        "      \"dW3\": dW3, \"db3\": db3\n",
        "      }\n",
        "  return grads\n",
        "\n",
        "# Optimizer --> adam\n",
        "def my_adam(params, grads, m, v, t, learning_rate=0.001, beta1=0.9, beta2=0.999, epsilon=1e-8):\n",
        "  t += 1  # increment time step\n",
        "\n",
        "  for key in grads:\n",
        "    # Initialize m and v if not already\n",
        "    if key not in m:\n",
        "      m[key] = np.zeros_like(grads[key])\n",
        "      v[key] = np.zeros_like(grads[key])\n",
        "\n",
        "    # Update biased first and second moments\n",
        "    m[key] = beta1 * m[key] + (1 - beta1) * grads[key]\n",
        "    v[key] = beta2 * v[key] + (1 - beta2) * (grads[key] ** 2)\n",
        "\n",
        "    # Compute bias-corrected moments\n",
        "    m_hat = m[key] / (1 - beta1 ** t)\n",
        "    v_hat = v[key] / (1 - beta2 ** t)\n",
        "\n",
        "    # Convert gradient key to matching parameter key (e.g., 'dW1' → 'W1')\n",
        "    param_key = key[1:]\n",
        "\n",
        "    # Update parameters\n",
        "    params[param_key] -= learning_rate * m_hat / (np.sqrt(v_hat) + epsilon)\n",
        "\n",
        "  return params, m, v, t"
      ],
      "metadata": {
        "id": "Md85Ya5iOwN9"
      },
      "execution_count": 4,
      "outputs": []
    },
    {
      "cell_type": "code",
      "source": [
        "# Initialize parameters\n",
        "params = my_initialize_parameters(input_size=784, hidden1_size=128, hidden2_size=64, output_size=10)\n",
        "\n",
        "# Normalize and flatten training data\n",
        "x_flat = x_train_full.reshape(x_train_full.shape[0], -1) / 255\n",
        "X_train, X_val, y_train, y_val = train_test_split(x_flat, y_train_full, test_size=0.2, random_state=42, stratify=y_train_full)\n",
        "\n",
        "# Training hyperparameters\n",
        "epochs = 60\n",
        "learning_rate = 0.008\n",
        "\n",
        "# to plot loss vs epochs:\n",
        "losses = []\n",
        "\n",
        "# for adam\n",
        "m = {}\n",
        "v = {}\n",
        "t = 0  # time step\n",
        "\n",
        "###############################################################################\n",
        "\n",
        "# Training loop\n",
        "for epoch in range(epochs):\n",
        "  # ForwardProp\n",
        "  A3, cache = my_forward_prop(X_train, params)\n",
        "\n",
        "  # Compute loss of this epoch\n",
        "  loss = cross_entropy_loss(A3, y_train)   # A3 is the predicted y by the model in this epoch\n",
        "  losses.append(loss)\n",
        "\n",
        "  # BackProp\n",
        "  grads = my_back_prop(X_train, y_train, params, cache)\n",
        "\n",
        "  # Update parameters\n",
        "  params, m, v, t = my_adam(params, grads, m, v, t, learning_rate)\n",
        "\n",
        "  # Validation accuracy\n",
        "  val_preds, _ = my_forward_prop(X_val, params)\n",
        "  val_predictions = np.argmax(val_preds, axis=1)\n",
        "  val_accuracy = np.mean(val_predictions == y_val)\n",
        "\n",
        "  # Print progress\n",
        "  if (epoch + 1) % 1 == 0:\n",
        "    predictions = np.argmax(A3, axis=1)\n",
        "    accuracy = np.mean(predictions == y_train)\n",
        "    print(f\"Epoch {epoch+1}/{epochs} - Loss: {loss:.4f} - Train Accuracy: {accuracy:.4f} - Test Accuracy: {val_accuracy:.4f}\")"
      ],
      "metadata": {
        "colab": {
          "base_uri": "https://localhost:8080/"
        },
        "id": "Yca8uDN3SkG3",
        "outputId": "54ee1f9f-15e4-4b4c-88d4-1e91779dc806"
      },
      "execution_count": 7,
      "outputs": [
        {
          "output_type": "stream",
          "name": "stdout",
          "text": [
            "Epoch 1/60 - Loss: 2.4494 - Train Accuracy: 0.1174 - Test Accuracy: 0.2212\n",
            "Epoch 2/60 - Loss: 2.5461 - Train Accuracy: 0.2238 - Test Accuracy: 0.1536\n",
            "Epoch 3/60 - Loss: 3.3014 - Train Accuracy: 0.1519 - Test Accuracy: 0.4248\n",
            "Epoch 4/60 - Loss: 2.0792 - Train Accuracy: 0.4333 - Test Accuracy: 0.4031\n",
            "Epoch 5/60 - Loss: 2.3883 - Train Accuracy: 0.4047 - Test Accuracy: 0.4618\n",
            "Epoch 6/60 - Loss: 2.0121 - Train Accuracy: 0.4609 - Test Accuracy: 0.4060\n",
            "Epoch 7/60 - Loss: 1.5196 - Train Accuracy: 0.4059 - Test Accuracy: 0.5284\n",
            "Epoch 8/60 - Loss: 1.2910 - Train Accuracy: 0.5299 - Test Accuracy: 0.5910\n",
            "Epoch 9/60 - Loss: 1.1750 - Train Accuracy: 0.5876 - Test Accuracy: 0.6042\n",
            "Epoch 10/60 - Loss: 1.1058 - Train Accuracy: 0.6019 - Test Accuracy: 0.6061\n",
            "Epoch 11/60 - Loss: 1.0612 - Train Accuracy: 0.6063 - Test Accuracy: 0.6513\n",
            "Epoch 12/60 - Loss: 0.9886 - Train Accuracy: 0.6443 - Test Accuracy: 0.6656\n",
            "Epoch 13/60 - Loss: 0.9097 - Train Accuracy: 0.6634 - Test Accuracy: 0.6903\n",
            "Epoch 14/60 - Loss: 0.8736 - Train Accuracy: 0.6886 - Test Accuracy: 0.7201\n",
            "Epoch 15/60 - Loss: 0.8162 - Train Accuracy: 0.7202 - Test Accuracy: 0.7127\n",
            "Epoch 16/60 - Loss: 0.7861 - Train Accuracy: 0.7132 - Test Accuracy: 0.7009\n",
            "Epoch 17/60 - Loss: 0.7850 - Train Accuracy: 0.6996 - Test Accuracy: 0.7332\n",
            "Epoch 18/60 - Loss: 0.7356 - Train Accuracy: 0.7334 - Test Accuracy: 0.7595\n",
            "Epoch 19/60 - Loss: 0.6883 - Train Accuracy: 0.7575 - Test Accuracy: 0.7598\n",
            "Epoch 20/60 - Loss: 0.6761 - Train Accuracy: 0.7608 - Test Accuracy: 0.7650\n",
            "Epoch 21/60 - Loss: 0.6659 - Train Accuracy: 0.7634 - Test Accuracy: 0.7710\n",
            "Epoch 22/60 - Loss: 0.6550 - Train Accuracy: 0.7678 - Test Accuracy: 0.7760\n",
            "Epoch 23/60 - Loss: 0.6383 - Train Accuracy: 0.7740 - Test Accuracy: 0.7835\n",
            "Epoch 24/60 - Loss: 0.6215 - Train Accuracy: 0.7819 - Test Accuracy: 0.7880\n",
            "Epoch 25/60 - Loss: 0.6057 - Train Accuracy: 0.7883 - Test Accuracy: 0.7915\n",
            "Epoch 26/60 - Loss: 0.5925 - Train Accuracy: 0.7909 - Test Accuracy: 0.7919\n",
            "Epoch 27/60 - Loss: 0.5858 - Train Accuracy: 0.7921 - Test Accuracy: 0.8007\n",
            "Epoch 28/60 - Loss: 0.5773 - Train Accuracy: 0.7977 - Test Accuracy: 0.8039\n",
            "Epoch 29/60 - Loss: 0.5658 - Train Accuracy: 0.8026 - Test Accuracy: 0.8086\n",
            "Epoch 30/60 - Loss: 0.5545 - Train Accuracy: 0.8057 - Test Accuracy: 0.8090\n",
            "Epoch 31/60 - Loss: 0.5477 - Train Accuracy: 0.8081 - Test Accuracy: 0.8148\n",
            "Epoch 32/60 - Loss: 0.5384 - Train Accuracy: 0.8119 - Test Accuracy: 0.8166\n",
            "Epoch 33/60 - Loss: 0.5319 - Train Accuracy: 0.8150 - Test Accuracy: 0.8174\n",
            "Epoch 34/60 - Loss: 0.5266 - Train Accuracy: 0.8158 - Test Accuracy: 0.8201\n",
            "Epoch 35/60 - Loss: 0.5189 - Train Accuracy: 0.8160 - Test Accuracy: 0.8247\n",
            "Epoch 36/60 - Loss: 0.5108 - Train Accuracy: 0.8203 - Test Accuracy: 0.8290\n",
            "Epoch 37/60 - Loss: 0.5044 - Train Accuracy: 0.8253 - Test Accuracy: 0.8277\n",
            "Epoch 38/60 - Loss: 0.4998 - Train Accuracy: 0.8247 - Test Accuracy: 0.8314\n",
            "Epoch 39/60 - Loss: 0.4946 - Train Accuracy: 0.8283 - Test Accuracy: 0.8323\n",
            "Epoch 40/60 - Loss: 0.4864 - Train Accuracy: 0.8294 - Test Accuracy: 0.8323\n",
            "Epoch 41/60 - Loss: 0.4840 - Train Accuracy: 0.8295 - Test Accuracy: 0.8316\n",
            "Epoch 42/60 - Loss: 0.4786 - Train Accuracy: 0.8317 - Test Accuracy: 0.8342\n",
            "Epoch 43/60 - Loss: 0.4730 - Train Accuracy: 0.8329 - Test Accuracy: 0.8357\n",
            "Epoch 44/60 - Loss: 0.4684 - Train Accuracy: 0.8356 - Test Accuracy: 0.8368\n",
            "Epoch 45/60 - Loss: 0.4646 - Train Accuracy: 0.8365 - Test Accuracy: 0.8377\n",
            "Epoch 46/60 - Loss: 0.4602 - Train Accuracy: 0.8378 - Test Accuracy: 0.8373\n",
            "Epoch 47/60 - Loss: 0.4581 - Train Accuracy: 0.8370 - Test Accuracy: 0.8381\n",
            "Epoch 48/60 - Loss: 0.4536 - Train Accuracy: 0.8399 - Test Accuracy: 0.8408\n",
            "Epoch 49/60 - Loss: 0.4503 - Train Accuracy: 0.8414 - Test Accuracy: 0.8403\n",
            "Epoch 50/60 - Loss: 0.4447 - Train Accuracy: 0.8427 - Test Accuracy: 0.8419\n",
            "Epoch 51/60 - Loss: 0.4407 - Train Accuracy: 0.8446 - Test Accuracy: 0.8448\n",
            "Epoch 52/60 - Loss: 0.4390 - Train Accuracy: 0.8440 - Test Accuracy: 0.8442\n",
            "Epoch 53/60 - Loss: 0.4357 - Train Accuracy: 0.8454 - Test Accuracy: 0.8471\n",
            "Epoch 54/60 - Loss: 0.4315 - Train Accuracy: 0.8471 - Test Accuracy: 0.8485\n",
            "Epoch 55/60 - Loss: 0.4273 - Train Accuracy: 0.8493 - Test Accuracy: 0.8490\n",
            "Epoch 56/60 - Loss: 0.4244 - Train Accuracy: 0.8500 - Test Accuracy: 0.8500\n",
            "Epoch 57/60 - Loss: 0.4219 - Train Accuracy: 0.8504 - Test Accuracy: 0.8505\n",
            "Epoch 58/60 - Loss: 0.4195 - Train Accuracy: 0.8510 - Test Accuracy: 0.8522\n",
            "Epoch 59/60 - Loss: 0.4168 - Train Accuracy: 0.8522 - Test Accuracy: 0.8538\n",
            "Epoch 60/60 - Loss: 0.4128 - Train Accuracy: 0.8533 - Test Accuracy: 0.8547\n"
          ]
        }
      ]
    },
    {
      "cell_type": "code",
      "source": [
        "# find loss of the test sample\n",
        "\n",
        "# plot the loss vs. epochs\n",
        "plt.plot(losses, label='Training Loss')\n",
        "plt.xlabel('Epoch')\n",
        "plt.ylabel('Loss')\n",
        "plt.title('Loss vs Epoch')\n",
        "plt.legend()\n",
        "plt.grid(True)\n",
        "plt.show()"
      ],
      "metadata": {
        "id": "XayFDjweTG6A",
        "colab": {
          "base_uri": "https://localhost:8080/",
          "height": 472
        },
        "outputId": "dad8ffcb-5ce7-43d2-a21d-e0122d06bb83"
      },
      "execution_count": 8,
      "outputs": [
        {
          "output_type": "display_data",
          "data": {
            "text/plain": [
              "<Figure size 640x480 with 1 Axes>"
            ],
            "image/png": "[encoded data removed]"
          },
          "metadata": {}
        }
      ]
    },
    {
      "cell_type": "code",
      "source": [
        "# Save parameters for later prediction (weights and biases)\n",
        "import pickle\n",
        "\n",
        "with open(\"model_weights.pkl\", \"wb\") as f:\n",
        "    pickle.dump(params, f)"
      ],
      "metadata": {
        "id": "bFW7YfPrszqB"
      },
      "execution_count": 9,
      "outputs": []
    },
    {
      "cell_type": "code",
      "source": [
        "# Load parameters from saved file\n",
        "with open(\"model_weights.pkl\", \"rb\") as f:\n",
        "    loaded_params = pickle.load(f)"
      ],
      "metadata": {
        "id": "HsSA4CvMs7wf"
      },
      "execution_count": 10,
      "outputs": []
    },
    {
      "cell_type": "code",
      "source": [
        "# Preprocess input\n",
        "x_input = x_test.reshape(x_test.shape[0], -1) / 255.0\n",
        "\n",
        "# Use loaded weights to do forwardProp\n",
        "A3_loaded, _ = my_forward_prop(x_input, loaded_params)\n",
        "\n",
        "# Get predictions\n",
        "predictions = np.argmax(A3_loaded, axis=1)"
      ],
      "metadata": {
        "id": "p8_D-59qtAqB"
      },
      "execution_count": 11,
      "outputs": []
    },
    {
      "cell_type": "code",
      "source": [
        "sample = x_test[0].reshape(1, -1) / 255.0\n",
        "A3_single, _ = my_forward_prop(sample, loaded_params)\n",
        "predicted_class = np.argmax(A3_single)\n",
        "print(f\"Predicted class: {predicted_class}\")"
      ],
      "metadata": {
        "colab": {
          "base_uri": "https://localhost:8080/"
        },
        "id": "WP98DkmevMUP",
        "outputId": "a1000cf9-0127-4501-f907-b2c1391395a2"
      },
      "execution_count": 12,
      "outputs": [
        {
          "output_type": "stream",
          "name": "stdout",
          "text": [
            "Predicted class: 9\n"
          ]
        }
      ]
    },
    {
      "cell_type": "code",
      "source": [
        "# Choose a test sample (e.g. index 0)\n",
        "index = 9\n",
        "sample_image = x_test[index]\n",
        "sample_input = sample_image.reshape(1, -1) / 255.0\n",
        "\n",
        "# Predict using our model\n",
        "A3_single, _ = my_forward_prop(sample_input, loaded_params)\n",
        "predicted_class = np.argmax(A3_single)\n",
        "\n",
        "# Plot the image\n",
        "plt.imshow(sample_image, cmap=\"gray\")\n",
        "plt.title(f\"Predicted class: {predicted_class} | Lable: {class_names[predicted_class]}\")\n",
        "plt.axis(\"off\")\n",
        "plt.show()"
      ],
      "metadata": {
        "colab": {
          "base_uri": "https://localhost:8080/",
          "height": 428
        },
        "id": "ZTn50xWyvPGt",
        "outputId": "92eb8f44-16d3-4a82-a644-60e3d3829ab9"
      },
      "execution_count": 19,
      "outputs": [
        {
          "output_type": "display_data",
          "data": {
            "text/plain": [
              "<Figure size 640x480 with 1 Axes>"
            ],
            "image/png": "[encoded data removed]"
          },
          "metadata": {}
        }
      ]
    },
    {
      "cell_type": "code",
      "source": [],
      "metadata": {
        "id": "LFE49e9IvaXv"
      },
      "execution_count": null,
      "outputs": []
    }
  ]
}